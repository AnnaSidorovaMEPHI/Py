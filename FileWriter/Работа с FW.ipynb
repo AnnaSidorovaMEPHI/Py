{
 "cells": [
  {
   "cell_type": "markdown",
   "metadata": {},
   "source": [
    "***Задание:***\n",
    "Теперь попрактикуемся с классами и файлами создайте еще один каталог writer в котором будет теперь уже не пустой __init__.py ``` from .file_writer import FileWriter __all__ = [\"FileWriter\"] ``` \n",
    "Обратите внимание! В отличие от ноутбука в .py файлах нужно прописывать относительные пути через . в __init__.py в прописали в переменной __all__ то, что должно будет вывестись в случае если из модуля импортировать все командой * Например: from my_python_functions.writer import * https://docs.python.org/3/tutorial/modules.html#importing-from-a-packageВот так должна выглядеть теперь новая структура  \n",
    "my_python_functions/  \n",
    "│ ├── __init__.py  \n",
    "│ ├── fib_functions/  \n",
    "│ ├── __init__.py  \n",
    "│ └── my_functions.  \n",
    "            │ └── writer  \n",
    "            ├── __init__.py  \n",
    "            └── file_writer.py  \n",
    "в file_writer.py нужно положить класс FileWriter который:   \n",
    "- при иницилизации должен принимать на вход строку с путем до некоторого файла. (файл может не сущестовать но должна быть проверка что существует директория по указанному пути) \n",
    "- должен иметь свойство path с getter, setter и deliter (сделайте такую же проверку в сеттере что в новом path существует директория) \n",
    "- у класса должен быть метод - распечатай файл (print_file) - у класса должен быть метод ДОзаписать в файл строку, но только через контекстный менеджер (т.е. добавить в конец если файл существует, и если такого файла нет, то создать его и записать вначало) \n",
    "- имел бы метод сохранения созданного экземпляра класса в пикл_файл (ниже пример 2) - имел бы классовый метод загрузки экземпляра класса из пикл_файла (ниже пример 2) \n",
    "Примечания: 1) для работы с файловой системой вам потребуется стандартный модуль os ( https://docs.python.org/3.5/library/os.html ) 2) Python позволяет сериализовать и десирализовать объекты (то есть просто представить объект в виде набора байтов и обратно) https://pythonworld.ru/moduli/modul-pickle.html Оффтоп: Использовать пикл может быть полезно когда у вас есть какой то созданный объект (например экземпляр класса) и вы хотите его сохранить, а потом спустя время загрузить и продолжить с ним работу. P.S. И да. прокрутите чуток вниз. там есть шаблончик класса"
   ]
  },
  {
   "cell_type": "markdown",
   "metadata": {},
   "source": [
    "***ТЕСТИМ!***"
   ]
  },
  {
   "cell_type": "code",
   "execution_count": 1,
   "metadata": {},
   "outputs": [],
   "source": [
    "import os"
   ]
  },
  {
   "cell_type": "code",
   "execution_count": 10,
   "metadata": {},
   "outputs": [],
   "source": [
    "from my_python_functions.writer.file_writer import FileWriter"
   ]
  },
  {
   "cell_type": "code",
   "execution_count": 13,
   "metadata": {},
   "outputs": [
    {
     "name": "stdout",
     "output_type": "stream",
     "text": [
      "./new_file.txt\n"
     ]
    }
   ],
   "source": [
    "b=FileWriter('./new_file.txt')\n",
    "print(b.path_)"
   ]
  },
  {
   "cell_type": "code",
   "execution_count": 14,
   "metadata": {},
   "outputs": [
    {
     "data": {
      "text/plain": [
       "False"
      ]
     },
     "execution_count": 14,
     "metadata": {},
     "output_type": "execute_result"
    }
   ],
   "source": [
    "b._check_path('./new_file.txt')"
   ]
  },
  {
   "cell_type": "code",
   "execution_count": 23,
   "metadata": {},
   "outputs": [],
   "source": [
    "b=FileWriter('./new_file.txt')\n",
    "with b as fw:\n",
    "    fw.write('im here!')"
   ]
  },
  {
   "cell_type": "code",
   "execution_count": 24,
   "metadata": {},
   "outputs": [],
   "source": [
    "s = open('./new_file.txt').readlines()[0].strip()\n",
    "assert 'im here!' == s"
   ]
  },
  {
   "cell_type": "code",
   "execution_count": 25,
   "metadata": {},
   "outputs": [],
   "source": [
    "b.save_yourself('./me.pkl') # сохранили экземпляр класса FileWriter"
   ]
  },
  {
   "cell_type": "code",
   "execution_count": 26,
   "metadata": {},
   "outputs": [],
   "source": [
    "b = FileWriter.load_file_writer('./me.pkl')  # а теперь снова его загрузили"
   ]
  },
  {
   "cell_type": "code",
   "execution_count": 27,
   "metadata": {},
   "outputs": [],
   "source": [
    "assert b.path == './new_file.txt' # видим что это и правда наш экземпляр"
   ]
  },
  {
   "cell_type": "code",
   "execution_count": 28,
   "metadata": {},
   "outputs": [],
   "source": [
    "with b as fw:\n",
    "    fw.write('im here!')"
   ]
  },
  {
   "cell_type": "code",
   "execution_count": 29,
   "metadata": {},
   "outputs": [],
   "source": [
    "s = open('./new_file.txt').readlines()[0].strip()\n",
    "assert 'im here!im here!' == s"
   ]
  }
 ],
 "metadata": {
  "kernelspec": {
   "display_name": "Python 3",
   "language": "python",
   "name": "python3"
  },
  "language_info": {
   "codemirror_mode": {
    "name": "ipython",
    "version": 3
   },
   "file_extension": ".py",
   "mimetype": "text/x-python",
   "name": "python",
   "nbconvert_exporter": "python",
   "pygments_lexer": "ipython3",
   "version": "3.7.0"
  }
 },
 "nbformat": 4,
 "nbformat_minor": 2
}
